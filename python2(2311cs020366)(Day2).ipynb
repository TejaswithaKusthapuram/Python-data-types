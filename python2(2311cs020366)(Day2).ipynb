{
 "cells": [
  {
   "cell_type": "code",
   "execution_count": null,
   "id": "98c74b1f-9d77-4b53-9647-aa406581f4f8",
   "metadata": {},
   "outputs": [],
   "source": [
    "# List Example\n",
    "colors = [\"red\", \"blue\", \"green\", \"yellow\", \"purple\"]\n",
    "\n",
    "print(colors[1])\n",
    "print(colors[3])\n",
    "\n",
    "colors[2] = \"cyan\"\n",
    "print(colors)\n",
    "\n",
    "print(colors[2:])\n",
    "\n",
    "# Tuple Example\n",
    "animals = (\"Lion\", \"tiger\", \"elephant\", \"giraffe\", \"Zebra\")\n",
    "\n",
    "print(animal[0])\n",
    "print(animal[-1])\n",
    "print(animals[1:4])\n",
    "\n",
    "# Dictionary Example\n",
    "\n",
    "person = {\n",
    "    \"name\": \"Alice\",\n",
    "    \"age\":25,\n",
    "    \"City\": \"New york\",\n",
    "    \"profession\":\"Engineer\",\n",
    "    \"hobby\":\"photography\"\n",
    "}\n",
    "\n",
    "print(person[\"name\"])\n",
    "print(person[\"hobby\"])\n",
    "print(person.get(\"age\"))\n",
    "for key, value in person.items():\n",
    "    print(f\"{key"
   ]
  }
 ],
 "metadata": {
  "kernelspec": {
   "display_name": "Python [conda env:base] *",
   "language": "python",
   "name": "conda-base-py"
  },
  "language_info": {
   "codemirror_mode": {
    "name": "ipython",
    "version": 3
   },
   "file_extension": ".py",
   "mimetype": "text/x-python",
   "name": "python",
   "nbconvert_exporter": "python",
   "pygments_lexer": "ipython3",
   "version": "3.12.7"
  }
 },
 "nbformat": 4,
 "nbformat_minor": 5
}
