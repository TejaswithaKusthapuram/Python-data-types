{
 "cells": [
  {
   "cell_type": "code",
   "execution_count": 1,
   "id": "c3fa728e-a2d7-404c-88fe-20ee79db3104",
   "metadata": {},
   "outputs": [],
   "source": [
    "import numpy as np"
   ]
  },
  {
   "cell_type": "code",
   "execution_count": null,
   "id": "0593b726-7821-4a30-bbaa-6ee453c5f836",
   "metadata": {},
   "outputs": [],
   "source": [
    "np.random.seed(55)\n"
   ]
  },
  {
   "cell_type": "code",
   "execution_count": null,
   "id": "eeedd80b-a149-4105-9bcf-52a9b399d22a",
   "metadata": {},
   "outputs": [],
   "source": []
  },
  {
   "cell_type": "code",
   "execution_count": null,
   "id": "ce1d574a-37a1-4395-8a5d-19910ed20237",
   "metadata": {},
   "outputs": [],
   "source": []
  }
 ],
 "metadata": {
  "kernelspec": {
   "display_name": "Python [conda env:base] *",
   "language": "python",
   "name": "conda-base-py"
  },
  "language_info": {
   "codemirror_mode": {
    "name": "ipython",
    "version": 3
   },
   "file_extension": ".py",
   "mimetype": "text/x-python",
   "name": "python",
   "nbconvert_exporter": "python",
   "pygments_lexer": "ipython3",
   "version": "3.12.7"
  }
 },
 "nbformat": 4,
 "nbformat_minor": 5
}
