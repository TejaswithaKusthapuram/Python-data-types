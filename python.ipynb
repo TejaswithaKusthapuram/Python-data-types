{
 "cells": [
  {
   "cell_type": "code",
   "execution_count": 15,
   "id": "21c78576-a52a-43a8-8eea-6275c9d18d22",
   "metadata": {},
   "outputs": [
    {
     "data": {
      "text/plain": [
       "67"
      ]
     },
     "execution_count": 15,
     "metadata": {},
     "output_type": "execute_result"
    }
   ],
   "source": [
    "#integers\n",
    "a=67\n",
    "a"
   ]
  },
  {
   "cell_type": "code",
   "execution_count": 17,
   "id": "e3d2ac22-f489-472b-b238-0cc92f03e7dd",
   "metadata": {},
   "outputs": [
    {
     "data": {
      "text/plain": [
       "int"
      ]
     },
     "execution_count": 17,
     "metadata": {},
     "output_type": "execute_result"
    }
   ],
   "source": [
    "type(a)"
   ]
  },
  {
   "cell_type": "code",
   "execution_count": 19,
   "id": "dada7ccc-c39e-4147-9b19-bd7f47ac6228",
   "metadata": {},
   "outputs": [
    {
     "data": {
      "text/plain": [
       "29.29"
      ]
     },
     "execution_count": 19,
     "metadata": {},
     "output_type": "execute_result"
    }
   ],
   "source": [
    "#Float\n",
    "b=29.29\n",
    "b"
   ]
  },
  {
   "cell_type": "code",
   "execution_count": 21,
   "id": "cb8c159c-6028-4043-ac10-bbe5d4812a3b",
   "metadata": {},
   "outputs": [
    {
     "data": {
      "text/plain": [
       "float"
      ]
     },
     "execution_count": 21,
     "metadata": {},
     "output_type": "execute_result"
    }
   ],
   "source": [
    "type(b)"
   ]
  },
  {
   "cell_type": "code",
   "execution_count": 23,
   "id": "cd21efc1-037b-4092-bef6-bd750e29a1ea",
   "metadata": {},
   "outputs": [
    {
     "data": {
      "text/plain": [
       "'hello'"
      ]
     },
     "execution_count": 23,
     "metadata": {},
     "output_type": "execute_result"
    }
   ],
   "source": [
    "#String\n",
    "c='hello'\n",
    "c"
   ]
  },
  {
   "cell_type": "code",
   "execution_count": 25,
   "id": "b8f1fe6a-9a72-43fe-91c9-716bea09124a",
   "metadata": {},
   "outputs": [
    {
     "data": {
      "text/plain": [
       "str"
      ]
     },
     "execution_count": 25,
     "metadata": {},
     "output_type": "execute_result"
    }
   ],
   "source": [
    "type(c)"
   ]
  },
  {
   "cell_type": "code",
   "execution_count": 35,
   "id": "77fad6d1-cf63-4ca0-8629-085b512eb1dd",
   "metadata": {},
   "outputs": [
    {
     "data": {
      "text/plain": [
       "True"
      ]
     },
     "execution_count": 35,
     "metadata": {},
     "output_type": "execute_result"
    }
   ],
   "source": [
    "#Boolean\n",
    "d=True\n",
    "d"
   ]
  },
  {
   "cell_type": "code",
   "execution_count": 37,
   "id": "6ec3428f-ff3c-48b9-86d1-8b78bf51d654",
   "metadata": {},
   "outputs": [
    {
     "data": {
      "text/plain": [
       "bool"
      ]
     },
     "execution_count": 37,
     "metadata": {},
     "output_type": "execute_result"
    }
   ],
   "source": [
    "type(d)"
   ]
  },
  {
   "cell_type": "code",
   "execution_count": 39,
   "id": "8f034ce5-7561-432d-a7dc-865767257ab3",
   "metadata": {},
   "outputs": [
    {
     "data": {
      "text/plain": [
       "(2+3j)"
      ]
     },
     "execution_count": 39,
     "metadata": {},
     "output_type": "execute_result"
    }
   ],
   "source": [
    "#complex\n",
    "E=2+3j\n",
    "E"
   ]
  },
  {
   "cell_type": "code",
   "execution_count": 41,
   "id": "07f5477a-70ee-4ee8-89b1-c06d88bc9a8c",
   "metadata": {},
   "outputs": [
    {
     "data": {
      "text/plain": [
       "complex"
      ]
     },
     "execution_count": 41,
     "metadata": {},
     "output_type": "execute_result"
    }
   ],
   "source": [
    "type(E)"
   ]
  },
  {
   "cell_type": "code",
   "execution_count": 43,
   "id": "8e36eb99-cf5f-4489-9813-d1b83afcd735",
   "metadata": {},
   "outputs": [
    {
     "data": {
      "text/plain": [
       "20"
      ]
     },
     "execution_count": 43,
     "metadata": {},
     "output_type": "execute_result"
    }
   ],
   "source": [
    "#integers\n",
    "a=10\n",
    "b=10\n",
    "a+b"
   ]
  },
  {
   "cell_type": "code",
   "execution_count": 45,
   "id": "e25836d8-ea80-421d-a135-b4c5aabbdb21",
   "metadata": {},
   "outputs": [
    {
     "data": {
      "text/plain": [
       "int"
      ]
     },
     "execution_count": 45,
     "metadata": {},
     "output_type": "execute_result"
    }
   ],
   "source": [
    "type(a+b)"
   ]
  },
  {
   "cell_type": "code",
   "execution_count": 15,
   "id": "bf60d8dc-9233-4b12-9e5b-578c72a35cd7",
   "metadata": {},
   "outputs": [
    {
     "data": {
      "text/plain": [
       "29"
      ]
     },
     "execution_count": 15,
     "metadata": {},
     "output_type": "execute_result"
    }
   ],
   "source": [
    "#Integers\n",
    "A=29\n",
    "A"
   ]
  },
  {
   "cell_type": "code",
   "execution_count": 3,
   "id": "8b479c11-50f0-4021-9976-b9009392dc3c",
   "metadata": {},
   "outputs": [
    {
     "data": {
      "text/plain": [
       "30"
      ]
     },
     "execution_count": 3,
     "metadata": {},
     "output_type": "execute_result"
    }
   ],
   "source": [
    "B=30\n",
    "B"
   ]
  },
  {
   "cell_type": "code",
   "execution_count": 5,
   "id": "34bfbea7-f1ad-4823-82d7-2fce3cd31d9a",
   "metadata": {},
   "outputs": [
    {
     "data": {
      "text/plain": [
       "291"
      ]
     },
     "execution_count": 5,
     "metadata": {},
     "output_type": "execute_result"
    }
   ],
   "source": [
    "C=291\n",
    "C"
   ]
  },
  {
   "cell_type": "code",
   "execution_count": 7,
   "id": "b80a1760-6e00-4ed5-8698-387bc6059fda",
   "metadata": {},
   "outputs": [
    {
     "data": {
      "text/plain": [
       "123"
      ]
     },
     "execution_count": 7,
     "metadata": {},
     "output_type": "execute_result"
    }
   ],
   "source": [
    "D=123\n",
    "D"
   ]
  },
  {
   "cell_type": "code",
   "execution_count": 9,
   "id": "1bccae43-b499-4ef7-8688-8df6cc57d3ff",
   "metadata": {},
   "outputs": [
    {
     "data": {
      "text/plain": [
       "453"
      ]
     },
     "execution_count": 9,
     "metadata": {},
     "output_type": "execute_result"
    }
   ],
   "source": [
    "E=453\n",
    "E"
   ]
  },
  {
   "cell_type": "code",
   "execution_count": 11,
   "id": "6f896e1d-0767-4948-9f47-646259987065",
   "metadata": {},
   "outputs": [
    {
     "data": {
      "text/plain": [
       "250"
      ]
     },
     "execution_count": 11,
     "metadata": {},
     "output_type": "execute_result"
    }
   ],
   "source": [
    "F=250\n",
    "F"
   ]
  },
  {
   "cell_type": "code",
   "execution_count": 13,
   "id": "a39c8117-a457-487a-942c-73df33d2a859",
   "metadata": {},
   "outputs": [
    {
     "data": {
      "text/plain": [
       "1176"
      ]
     },
     "execution_count": 13,
     "metadata": {},
     "output_type": "execute_result"
    }
   ],
   "source": [
    "S=A+B+C+D+E+F\n",
    "S"
   ]
  },
  {
   "cell_type": "code",
   "execution_count": 36,
   "id": "5c34131f-32e1-4299-bec0-95cf240cb226",
   "metadata": {},
   "outputs": [
    {
     "data": {
      "text/plain": [
       "'Welcome '"
      ]
     },
     "execution_count": 36,
     "metadata": {},
     "output_type": "execute_result"
    }
   ],
   "source": [
    "#Strings\n",
    "A='Welcome '\n",
    "A"
   ]
  },
  {
   "cell_type": "code",
   "execution_count": 32,
   "id": "7af2e0bd-60ac-420a-b1a0-d183ba2aee56",
   "metadata": {},
   "outputs": [
    {
     "data": {
      "text/plain": [
       "'To The '"
      ]
     },
     "execution_count": 32,
     "metadata": {},
     "output_type": "execute_result"
    }
   ],
   "source": [
    "B='To The '\n",
    "B"
   ]
  },
  {
   "cell_type": "code",
   "execution_count": 38,
   "id": "17ee5414-b1f2-4ef8-88df-fe3f85b08b5e",
   "metadata": {},
   "outputs": [
    {
     "data": {
      "text/plain": [
       "'Mallareddy '"
      ]
     },
     "execution_count": 38,
     "metadata": {},
     "output_type": "execute_result"
    }
   ],
   "source": [
    "C='Mallareddy '\n",
    "C"
   ]
  },
  {
   "cell_type": "code",
   "execution_count": 42,
   "id": "976abeb2-2d8d-4416-9ac5-05279ecccd5d",
   "metadata": {},
   "outputs": [
    {
     "data": {
      "text/plain": [
       "'University '"
      ]
     },
     "execution_count": 42,
     "metadata": {},
     "output_type": "execute_result"
    }
   ],
   "source": [
    "D='University '\n",
    "D"
   ]
  },
  {
   "cell_type": "code",
   "execution_count": 44,
   "id": "16f530ca-6a54-43d6-9905-280b968403b5",
   "metadata": {},
   "outputs": [
    {
     "data": {
      "text/plain": [
       "'Hyderabad '"
      ]
     },
     "execution_count": 44,
     "metadata": {},
     "output_type": "execute_result"
    }
   ],
   "source": [
    "E='Hyderabad '\n",
    "E"
   ]
  },
  {
   "cell_type": "code",
   "execution_count": 46,
   "id": "9bfd72c4-f2bb-4f49-a8f5-3ddf72a7a6e6",
   "metadata": {},
   "outputs": [
    {
     "data": {
      "text/plain": [
       "'Telangana'"
      ]
     },
     "execution_count": 46,
     "metadata": {},
     "output_type": "execute_result"
    }
   ],
   "source": [
    "F='Telangana'\n",
    "F"
   ]
  },
  {
   "cell_type": "code",
   "execution_count": 48,
   "id": "70dcf908-3d39-456e-bd77-7f056df867c8",
   "metadata": {},
   "outputs": [
    {
     "data": {
      "text/plain": [
       "'Welcome To The Mallareddy University Hyderabad Telangana'"
      ]
     },
     "execution_count": 48,
     "metadata": {},
     "output_type": "execute_result"
    }
   ],
   "source": [
    "K=A+B+C+D+E+F\n",
    "K"
   ]
  },
  {
   "cell_type": "markdown",
   "id": "f9700f61-7ba1-434a-a0af-60c7c6aea4ee",
   "metadata": {},
   "source": [
    "## python training"
   ]
  },
  {
   "cell_type": "markdown",
   "id": "c7c8ff17-246a-47b4-a983-1f0adce9abdd",
   "metadata": {},
   "source": [
    "## OPERATORS\n",
    "# addition +\n",
    "# subtraction -\n",
    "# Multiplication *\n",
    "# Division /\n",
    "# Remainder %\n",
    "# Power **\n",
    "# // floor division"
   ]
  },
  {
   "cell_type": "code",
   "execution_count": 6,
   "id": "58a73bc3-7a1e-432d-bafa-53a1f54d01a4",
   "metadata": {},
   "outputs": [],
   "source": [
    "a=109\n",
    "b=3"
   ]
  },
  {
   "cell_type": "code",
   "execution_count": 10,
   "id": "90389771-c164-4915-80eb-7baf998c2461",
   "metadata": {},
   "outputs": [
    {
     "data": {
      "text/plain": [
       "112"
      ]
     },
     "execution_count": 10,
     "metadata": {},
     "output_type": "execute_result"
    }
   ],
   "source": [
    "c=a + b\n",
    "c"
   ]
  },
  {
   "cell_type": "code",
   "execution_count": 12,
   "id": "ab96a989-eb24-43b7-b0aa-f99418145368",
   "metadata": {},
   "outputs": [
    {
     "data": {
      "text/plain": [
       "int"
      ]
     },
     "execution_count": 12,
     "metadata": {},
     "output_type": "execute_result"
    }
   ],
   "source": [
    "type(c)"
   ]
  },
  {
   "cell_type": "code",
   "execution_count": 19,
   "id": "1bb94a83-1c75-4286-a824-beac951af686",
   "metadata": {},
   "outputs": [
    {
     "data": {
      "text/plain": [
       "106"
      ]
     },
     "execution_count": 19,
     "metadata": {},
     "output_type": "execute_result"
    }
   ],
   "source": [
    "d=a-b\n",
    "d"
   ]
  },
  {
   "cell_type": "code",
   "execution_count": 21,
   "id": "c403e347-883d-4a1e-934f-1c3b1935791c",
   "metadata": {},
   "outputs": [
    {
     "data": {
      "text/plain": [
       "int"
      ]
     },
     "execution_count": 21,
     "metadata": {},
     "output_type": "execute_result"
    }
   ],
   "source": [
    "type(d)"
   ]
  },
  {
   "cell_type": "code",
   "execution_count": 23,
   "id": "3663511e-7844-4d93-a795-b513cd7fc921",
   "metadata": {},
   "outputs": [
    {
     "data": {
      "text/plain": [
       "327"
      ]
     },
     "execution_count": 23,
     "metadata": {},
     "output_type": "execute_result"
    }
   ],
   "source": [
    "e=a*b\n",
    "e"
   ]
  },
  {
   "cell_type": "code",
   "execution_count": 25,
   "id": "5c413a8b-0ec2-475b-b74f-4aa240d4428e",
   "metadata": {},
   "outputs": [
    {
     "data": {
      "text/plain": [
       "int"
      ]
     },
     "execution_count": 25,
     "metadata": {},
     "output_type": "execute_result"
    }
   ],
   "source": [
    "type(e)"
   ]
  },
  {
   "cell_type": "code",
   "execution_count": 27,
   "id": "b8d21e67-23f3-493a-ab59-c8d27fe47283",
   "metadata": {},
   "outputs": [
    {
     "data": {
      "text/plain": [
       "36.333333333333336"
      ]
     },
     "execution_count": 27,
     "metadata": {},
     "output_type": "execute_result"
    }
   ],
   "source": [
    "f=a/b\n",
    "f"
   ]
  },
  {
   "cell_type": "code",
   "execution_count": 29,
   "id": "5be51a0a-235a-4ed3-b4dd-e3e2daaec8e9",
   "metadata": {},
   "outputs": [
    {
     "data": {
      "text/plain": [
       "float"
      ]
     },
     "execution_count": 29,
     "metadata": {},
     "output_type": "execute_result"
    }
   ],
   "source": [
    "type(f)"
   ]
  },
  {
   "cell_type": "code",
   "execution_count": 31,
   "id": "f5cce7ff-92ce-466a-9699-d287e7e8396a",
   "metadata": {},
   "outputs": [
    {
     "data": {
      "text/plain": [
       "1"
      ]
     },
     "execution_count": 31,
     "metadata": {},
     "output_type": "execute_result"
    }
   ],
   "source": [
    "g=a%b\n",
    "g"
   ]
  },
  {
   "cell_type": "code",
   "execution_count": 34,
   "id": "dcd28d6a-944e-46e0-b5a5-b50b905d4e79",
   "metadata": {},
   "outputs": [
    {
     "data": {
      "text/plain": [
       "int"
      ]
     },
     "execution_count": 34,
     "metadata": {},
     "output_type": "execute_result"
    }
   ],
   "source": [
    "type(g)"
   ]
  },
  {
   "cell_type": "code",
   "execution_count": 36,
   "id": "eb5e84ad-d23c-4b2c-ba2a-95e43d07c8b4",
   "metadata": {},
   "outputs": [
    {
     "data": {
      "text/plain": [
       "1295029"
      ]
     },
     "execution_count": 36,
     "metadata": {},
     "output_type": "execute_result"
    }
   ],
   "source": [
    "H=a**b\n",
    "H"
   ]
  },
  {
   "cell_type": "code",
   "execution_count": 38,
   "id": "0f0e2744-9e17-473b-8f15-c3f0a39f4a3f",
   "metadata": {},
   "outputs": [
    {
     "data": {
      "text/plain": [
       "int"
      ]
     },
     "execution_count": 38,
     "metadata": {},
     "output_type": "execute_result"
    }
   ],
   "source": [
    "type(H)"
   ]
  },
  {
   "cell_type": "code",
   "execution_count": 40,
   "id": "808d3d5c-aa2a-4634-b735-d8fc10649876",
   "metadata": {},
   "outputs": [
    {
     "data": {
      "text/plain": [
       "36"
      ]
     },
     "execution_count": 40,
     "metadata": {},
     "output_type": "execute_result"
    }
   ],
   "source": [
    "I=a//b\n",
    "I"
   ]
  },
  {
   "cell_type": "code",
   "execution_count": 43,
   "id": "b1361851-4a45-4187-8243-6284953ca33b",
   "metadata": {},
   "outputs": [
    {
     "data": {
      "text/plain": [
       "int"
      ]
     },
     "execution_count": 43,
     "metadata": {},
     "output_type": "execute_result"
    }
   ],
   "source": [
    "type(I)"
   ]
  },
  {
   "cell_type": "markdown",
   "id": "8ac4764a-ba60-4e8a-8c61-6e9e9a44d69e",
   "metadata": {},
   "source": [
    "## > < >= <= != =="
   ]
  },
  {
   "cell_type": "code",
   "execution_count": 48,
   "id": "7ffdd132-d69f-4bc0-8704-780ebf5d5aa7",
   "metadata": {},
   "outputs": [],
   "source": [
    "a=45\n",
    "b=32"
   ]
  },
  {
   "cell_type": "code",
   "execution_count": 52,
   "id": "2b64f339-e795-4efd-a270-80ecf1df5019",
   "metadata": {},
   "outputs": [
    {
     "data": {
      "text/plain": [
       "True"
      ]
     },
     "execution_count": 52,
     "metadata": {},
     "output_type": "execute_result"
    }
   ],
   "source": [
    "c=a>b\n",
    "c"
   ]
  },
  {
   "cell_type": "code",
   "execution_count": 54,
   "id": "5cbf25b0-4ea0-4568-9be5-41f7756cfa48",
   "metadata": {},
   "outputs": [
    {
     "data": {
      "text/plain": [
       "False"
      ]
     },
     "execution_count": 54,
     "metadata": {},
     "output_type": "execute_result"
    }
   ],
   "source": [
    "a<b"
   ]
  },
  {
   "cell_type": "code",
   "execution_count": 57,
   "id": "3c9b508a-183b-4eae-871c-7a9d786783a1",
   "metadata": {},
   "outputs": [
    {
     "data": {
      "text/plain": [
       "True"
      ]
     },
     "execution_count": 57,
     "metadata": {},
     "output_type": "execute_result"
    }
   ],
   "source": [
    "a>=b"
   ]
  },
  {
   "cell_type": "code",
   "execution_count": 60,
   "id": "5f972f27-f684-4ead-83ae-20ef99963fd1",
   "metadata": {},
   "outputs": [
    {
     "data": {
      "text/plain": [
       "False"
      ]
     },
     "execution_count": 60,
     "metadata": {},
     "output_type": "execute_result"
    }
   ],
   "source": [
    "a<=b"
   ]
  },
  {
   "cell_type": "code",
   "execution_count": 62,
   "id": "2ea58d6b-17df-44d4-9404-0f2df7ec23f8",
   "metadata": {},
   "outputs": [
    {
     "data": {
      "text/plain": [
       "True"
      ]
     },
     "execution_count": 62,
     "metadata": {},
     "output_type": "execute_result"
    }
   ],
   "source": [
    "a!=b"
   ]
  },
  {
   "cell_type": "code",
   "execution_count": 64,
   "id": "5fb80012-44ec-4efe-a1d4-b1e2586adb80",
   "metadata": {},
   "outputs": [
    {
     "data": {
      "text/plain": [
       "False"
      ]
     },
     "execution_count": 64,
     "metadata": {},
     "output_type": "execute_result"
    }
   ],
   "source": [
    "a==b"
   ]
  },
  {
   "cell_type": "markdown",
   "id": "1c9614c9-e5f0-4975-aca6-61d395809117",
   "metadata": {},
   "source": [
    "# Logical Operators\n",
    "# and\n",
    "# or\n",
    "# not"
   ]
  },
  {
   "cell_type": "code",
   "execution_count": 74,
   "id": "d24a4b7f-7e69-44a9-a58b-60038306d6fb",
   "metadata": {},
   "outputs": [],
   "source": [
    "a=50\n",
    "b=45"
   ]
  },
  {
   "cell_type": "code",
   "execution_count": 76,
   "id": "f89291c6-7f35-49e4-a670-48cafe4ed95d",
   "metadata": {},
   "outputs": [
    {
     "data": {
      "text/plain": [
       "False"
      ]
     },
     "execution_count": 76,
     "metadata": {},
     "output_type": "execute_result"
    }
   ],
   "source": [
    "(a>b) and (a>100)"
   ]
  },
  {
   "cell_type": "code",
   "execution_count": 78,
   "id": "330d2bb6-3f53-4e38-985f-ce987898569d",
   "metadata": {},
   "outputs": [
    {
     "data": {
      "text/plain": [
       "False"
      ]
     },
     "execution_count": 78,
     "metadata": {},
     "output_type": "execute_result"
    }
   ],
   "source": [
    "(a<b) and (a>100)"
   ]
  },
  {
   "cell_type": "code",
   "execution_count": 80,
   "id": "028202de-96cb-4f78-9f79-d424aa00e3df",
   "metadata": {},
   "outputs": [
    {
     "data": {
      "text/plain": [
       "False"
      ]
     },
     "execution_count": 80,
     "metadata": {},
     "output_type": "execute_result"
    }
   ],
   "source": [
    "(a<b) and (a<100)"
   ]
  },
  {
   "cell_type": "code",
   "execution_count": 83,
   "id": "0391f5cc-10d4-47d5-9209-c2c3c1742fed",
   "metadata": {},
   "outputs": [
    {
     "data": {
      "text/plain": [
       "True"
      ]
     },
     "execution_count": 83,
     "metadata": {},
     "output_type": "execute_result"
    }
   ],
   "source": [
    "(a>b) and (a<100)"
   ]
  },
  {
   "cell_type": "code",
   "execution_count": 109,
   "id": "e09ae94d-fdf1-40d5-b667-ad356f00c36e",
   "metadata": {},
   "outputs": [
    {
     "data": {
      "text/plain": [
       "True"
      ]
     },
     "execution_count": 109,
     "metadata": {},
     "output_type": "execute_result"
    }
   ],
   "source": [
    "(a>b) or (a<b)"
   ]
  },
  {
   "cell_type": "code",
   "execution_count": 111,
   "id": "67a866d8-7226-4cce-aa6e-0a625434e9c1",
   "metadata": {},
   "outputs": [
    {
     "data": {
      "text/plain": [
       "False"
      ]
     },
     "execution_count": 111,
     "metadata": {},
     "output_type": "execute_result"
    }
   ],
   "source": [
    "d>10"
   ]
  },
  {
   "cell_type": "code",
   "execution_count": 92,
   "id": "5ce97c28-6f72-4039-ae3e-ea838181086f",
   "metadata": {},
   "outputs": [
    {
     "data": {
      "text/plain": [
       "False"
      ]
     },
     "execution_count": 92,
     "metadata": {},
     "output_type": "execute_result"
    }
   ],
   "source": [
    "d<30"
   ]
  },
  {
   "cell_type": "code",
   "execution_count": 101,
   "id": "6fb5e508-4d7a-4518-8167-9933bddf7817",
   "metadata": {},
   "outputs": [
    {
     "data": {
      "text/plain": [
       "False"
      ]
     },
     "execution_count": 101,
     "metadata": {},
     "output_type": "execute_result"
    }
   ],
   "source": [
    "d>10 and d<30"
   ]
  },
  {
   "cell_type": "code",
   "execution_count": 120,
   "id": "1e7a6fa4-038d-49d8-8984-67e71d043561",
   "metadata": {},
   "outputs": [],
   "source": [
    "d=8.1"
   ]
  },
  {
   "cell_type": "code",
   "execution_count": 99,
   "id": "8876bba5-1ea0-411a-b430-fa703ba12efe",
   "metadata": {},
   "outputs": [
    {
     "data": {
      "text/plain": [
       "False"
      ]
     },
     "execution_count": 99,
     "metadata": {},
     "output_type": "execute_result"
    }
   ],
   "source": [
    "d>=8.1 and d<=9.0"
   ]
  },
  {
   "cell_type": "code",
   "execution_count": 113,
   "id": "95c68482-2a71-4d2e-bd98-84b1ac3d88bf",
   "metadata": {},
   "outputs": [
    {
     "data": {
      "text/plain": [
       "False"
      ]
     },
     "execution_count": 113,
     "metadata": {},
     "output_type": "execute_result"
    }
   ],
   "source": [
    "not a>b"
   ]
  },
  {
   "cell_type": "code",
   "execution_count": 122,
   "id": "b52967c6-11a4-4dfc-801d-ba1c3d1a506a",
   "metadata": {},
   "outputs": [
    {
     "data": {
      "text/plain": [
       "True"
      ]
     },
     "execution_count": 122,
     "metadata": {},
     "output_type": "execute_result"
    }
   ],
   "source": [
    "d>=8.1"
   ]
  },
  {
   "cell_type": "code",
   "execution_count": 118,
   "id": "cc0a23aa-4af3-48e2-a7cc-85d7208e9b8a",
   "metadata": {},
   "outputs": [
    {
     "data": {
      "text/plain": [
       "True"
      ]
     },
     "execution_count": 118,
     "metadata": {},
     "output_type": "execute_result"
    }
   ],
   "source": [
    "d<=9.0"
   ]
  },
  {
   "cell_type": "code",
   "execution_count": 126,
   "id": "65c202e4-8791-49b1-b47d-53802f795d37",
   "metadata": {},
   "outputs": [
    {
     "data": {
      "text/plain": [
       "True"
      ]
     },
     "execution_count": 126,
     "metadata": {},
     "output_type": "execute_result"
    }
   ],
   "source": [
    "d>=8.1 or d<=9.0"
   ]
  },
  {
   "cell_type": "code",
   "execution_count": 128,
   "id": "9ff2b1e7-a37a-40a1-b06b-f73108b1b006",
   "metadata": {},
   "outputs": [
    {
     "data": {
      "text/plain": [
       "False"
      ]
     },
     "execution_count": 128,
     "metadata": {},
     "output_type": "execute_result"
    }
   ],
   "source": [
    "d>=9.0"
   ]
  },
  {
   "cell_type": "code",
   "execution_count": 130,
   "id": "cb0e4b24-a510-4671-8489-d595e7c6a5ee",
   "metadata": {},
   "outputs": [
    {
     "data": {
      "text/plain": [
       "True"
      ]
     },
     "execution_count": 130,
     "metadata": {},
     "output_type": "execute_result"
    }
   ],
   "source": [
    "d<=8.1"
   ]
  },
  {
   "cell_type": "code",
   "execution_count": 138,
   "id": "446cd99e-94b9-4f5a-9c4e-6dc2a332a677",
   "metadata": {},
   "outputs": [
    {
     "data": {
      "text/plain": [
       "False"
      ]
     },
     "execution_count": 138,
     "metadata": {},
     "output_type": "execute_result"
    }
   ],
   "source": [
    "d>=9.0 and d<=8.1"
   ]
  },
  {
   "cell_type": "code",
   "execution_count": 140,
   "id": "b4b61395-b283-4c55-997a-82e6321b0585",
   "metadata": {},
   "outputs": [],
   "source": [
    "cgpa=7.4"
   ]
  },
  {
   "cell_type": "code",
   "execution_count": 146,
   "id": "a98191c7-9e27-43d4-9abe-9aab09d242b7",
   "metadata": {},
   "outputs": [
    {
     "data": {
      "text/plain": [
       "False"
      ]
     },
     "execution_count": 146,
     "metadata": {},
     "output_type": "execute_result"
    }
   ],
   "source": [
    "cgpa>=8.1 and cgpa<=9.0  # A grade"
   ]
  },
  {
   "cell_type": "code",
   "execution_count": 150,
   "id": "eaa4fe81-4a18-4f08-83e7-75365f067e41",
   "metadata": {},
   "outputs": [
    {
     "data": {
      "text/plain": [
       "True"
      ]
     },
     "execution_count": 150,
     "metadata": {},
     "output_type": "execute_result"
    }
   ],
   "source": [
    "cgpa>=7.1 and cgpa<=8.0 # B grade"
   ]
  },
  {
   "cell_type": "code",
   "execution_count": 5,
   "id": "8a8a2aa0-fae2-45b8-8e63-b0f48b9f02f4",
   "metadata": {},
   "outputs": [],
   "source": [
    "a=8.94"
   ]
  },
  {
   "cell_type": "code",
   "execution_count": 8,
   "id": "5e3be50b-f27b-4fc3-baba-2950e5cc07c8",
   "metadata": {},
   "outputs": [
    {
     "data": {
      "text/plain": [
       "True"
      ]
     },
     "execution_count": 8,
     "metadata": {},
     "output_type": "execute_result"
    }
   ],
   "source": [
    "a>=8.7"
   ]
  },
  {
   "cell_type": "code",
   "execution_count": 10,
   "id": "0516c086-b8ca-4b21-b1d6-80a091124c74",
   "metadata": {},
   "outputs": [
    {
     "data": {
      "text/plain": [
       "True"
      ]
     },
     "execution_count": 10,
     "metadata": {},
     "output_type": "execute_result"
    }
   ],
   "source": [
    "a<=9.0"
   ]
  },
  {
   "cell_type": "code",
   "execution_count": 12,
   "id": "45fbb767-575b-4d87-a72e-a2e18177201d",
   "metadata": {},
   "outputs": [
    {
     "data": {
      "text/plain": [
       "True"
      ]
     },
     "execution_count": 12,
     "metadata": {},
     "output_type": "execute_result"
    }
   ],
   "source": [
    "a>=8.7 and a<=9.0"
   ]
  },
  {
   "cell_type": "code",
   "execution_count": 1,
   "id": "6178d77a-065a-43d2-8e4d-57f721405ef4",
   "metadata": {},
   "outputs": [],
   "source": [
    "#list Tuple"
   ]
  },
  {
   "cell_type": "code",
   "execution_count": 3,
   "id": "2e86bd7c-69b6-4fea-9f0a-803592c7acb7",
   "metadata": {},
   "outputs": [],
   "source": [
    "b=56"
   ]
  },
  {
   "cell_type": "code",
   "execution_count": 5,
   "id": "82c7851a-29da-449f-8955-6e9bd3741820",
   "metadata": {},
   "outputs": [
    {
     "data": {
      "text/plain": [
       "56"
      ]
     },
     "execution_count": 5,
     "metadata": {},
     "output_type": "execute_result"
    }
   ],
   "source": [
    "b"
   ]
  },
  {
   "cell_type": "code",
   "execution_count": 7,
   "id": "87bae1de-1a03-40c8-ace3-0d81aa27ed47",
   "metadata": {},
   "outputs": [
    {
     "data": {
      "text/plain": [
       "[23, 34, 45, 56, 67]"
      ]
     },
     "execution_count": 7,
     "metadata": {},
     "output_type": "execute_result"
    }
   ],
   "source": [
    "a=[23,34,45,56,67]\n",
    "a"
   ]
  },
  {
   "cell_type": "code",
   "execution_count": 9,
   "id": "8065ea69-737a-44c5-ba1f-76790b547d7a",
   "metadata": {},
   "outputs": [
    {
     "data": {
      "text/plain": [
       "list"
      ]
     },
     "execution_count": 9,
     "metadata": {},
     "output_type": "execute_result"
    }
   ],
   "source": [
    "type(a)"
   ]
  },
  {
   "cell_type": "code",
   "execution_count": 11,
   "id": "bd87eed3-d50e-4d49-9ce8-db7b582dc905",
   "metadata": {},
   "outputs": [
    {
     "data": {
      "text/plain": [
       "[340, 80.45, 'data', True]"
      ]
     },
     "execution_count": 11,
     "metadata": {},
     "output_type": "execute_result"
    }
   ],
   "source": [
    "c=[340,80.45,'data',True]\n",
    "c"
   ]
  },
  {
   "cell_type": "code",
   "execution_count": 14,
   "id": "27a50510-5a81-44ad-9cab-e7e979160422",
   "metadata": {},
   "outputs": [
    {
     "data": {
      "text/plain": [
       "[19, 29, 39, 49, 59, 69, 79]"
      ]
     },
     "execution_count": 14,
     "metadata": {},
     "output_type": "execute_result"
    }
   ],
   "source": [
    "#homogeneous\n",
    "D=[19,29,39,49,59,69,79]\n",
    "D"
   ]
  },
  {
   "cell_type": "code",
   "execution_count": 25,
   "id": "9cc005f0-1820-43c4-bf84-53c0ccd404ef",
   "metadata": {},
   "outputs": [
    {
     "data": {
      "text/plain": [
       "list"
      ]
     },
     "execution_count": 25,
     "metadata": {},
     "output_type": "execute_result"
    }
   ],
   "source": [
    "type(D)"
   ]
  },
  {
   "cell_type": "code",
   "execution_count": 21,
   "id": "d17710d7-7e4e-43a2-89a7-ee8b03b35349",
   "metadata": {},
   "outputs": [
    {
     "data": {
      "text/plain": [
       "[29, 35.98, 'Kanna', True]"
      ]
     },
     "execution_count": 21,
     "metadata": {},
     "output_type": "execute_result"
    }
   ],
   "source": [
    "E=[29,35.98,'Kanna',True]\n",
    "E"
   ]
  },
  {
   "cell_type": "code",
   "execution_count": 23,
   "id": "b2de5d14-cc4e-4266-a000-dbaf8c4584ed",
   "metadata": {},
   "outputs": [
    {
     "data": {
      "text/plain": [
       "list"
      ]
     },
     "execution_count": 23,
     "metadata": {},
     "output_type": "execute_result"
    }
   ],
   "source": [
    "type(E)"
   ]
  },
  {
   "cell_type": "code",
   "execution_count": 27,
   "id": "80033881-97b7-41fe-b05f-ff473de1e404",
   "metadata": {},
   "outputs": [
    {
     "data": {
      "text/plain": [
       "['data', True, 80.34, 56, 'Hyderabad', False]"
      ]
     },
     "execution_count": 27,
     "metadata": {},
     "output_type": "execute_result"
    }
   ],
   "source": [
    "C=['data',True,80.34,56,'Hyderabad',False]\n",
    "C"
   ]
  },
  {
   "cell_type": "code",
   "execution_count": 29,
   "id": "32074647-fe49-48e2-a460-a02033f0ab9b",
   "metadata": {},
   "outputs": [
    {
     "data": {
      "text/plain": [
       "list"
      ]
     },
     "execution_count": 29,
     "metadata": {},
     "output_type": "execute_result"
    }
   ],
   "source": [
    "type(C)"
   ]
  },
  {
   "cell_type": "code",
   "execution_count": 31,
   "id": "42b3f84c-9a42-46fa-b779-d195d218dbf0",
   "metadata": {},
   "outputs": [
    {
     "data": {
      "text/plain": [
       "[203, 'Hyderabad', 45, True, False, 78, 175, 34.9]"
      ]
     },
     "execution_count": 31,
     "metadata": {},
     "output_type": "execute_result"
    }
   ],
   "source": [
    "C=[203,'Hyderabad',45,True,False,78,175,34.9]\n",
    "C"
   ]
  },
  {
   "cell_type": "code",
   "execution_count": 35,
   "id": "ee3bec14-9235-4819-b603-5dca92d35d26",
   "metadata": {},
   "outputs": [
    {
     "data": {
      "text/plain": [
       "203"
      ]
     },
     "execution_count": 35,
     "metadata": {},
     "output_type": "execute_result"
    }
   ],
   "source": [
    "C[0]"
   ]
  },
  {
   "cell_type": "code",
   "execution_count": 41,
   "id": "074a5f5d-2129-4c00-9064-9ff1183b7476",
   "metadata": {},
   "outputs": [
    {
     "data": {
      "text/plain": [
       "'Hyderabad'"
      ]
     },
     "execution_count": 41,
     "metadata": {},
     "output_type": "execute_result"
    }
   ],
   "source": [
    "C[1]"
   ]
  },
  {
   "cell_type": "code",
   "execution_count": 43,
   "id": "0be0ad0c-efe5-4deb-8794-78d3b956bd90",
   "metadata": {},
   "outputs": [
    {
     "data": {
      "text/plain": [
       "True"
      ]
     },
     "execution_count": 43,
     "metadata": {},
     "output_type": "execute_result"
    }
   ],
   "source": [
    "C[3]"
   ]
  },
  {
   "cell_type": "code",
   "execution_count": 45,
   "id": "424ea49d-e63b-4dbb-b572-08c057d37789",
   "metadata": {},
   "outputs": [
    {
     "data": {
      "text/plain": [
       "175"
      ]
     },
     "execution_count": 45,
     "metadata": {},
     "output_type": "execute_result"
    }
   ],
   "source": [
    "C[6]"
   ]
  },
  {
   "cell_type": "code",
   "execution_count": 53,
   "id": "c01cb025-5291-467d-a17a-f46840530b18",
   "metadata": {},
   "outputs": [
    {
     "data": {
      "text/plain": [
       "['Hyderabad', 45, True, False]"
      ]
     },
     "execution_count": 53,
     "metadata": {},
     "output_type": "execute_result"
    }
   ],
   "source": [
    "C[1:5]"
   ]
  },
  {
   "cell_type": "code",
   "execution_count": 55,
   "id": "be03b31c-afa8-461b-9484-c5a665fed46f",
   "metadata": {},
   "outputs": [
    {
     "data": {
      "text/plain": [
       "[203, 'Hyderabad', 45, True, False, 78]"
      ]
     },
     "execution_count": 55,
     "metadata": {},
     "output_type": "execute_result"
    }
   ],
   "source": [
    "C[0:6]"
   ]
  },
  {
   "cell_type": "code",
   "execution_count": 57,
   "id": "b7947da8-0742-478f-b5bf-7bd93b161a40",
   "metadata": {},
   "outputs": [
    {
     "data": {
      "text/plain": [
       "[203, 'Hyderabad', 45, True, False, 78, 175, 34.9]"
      ]
     },
     "execution_count": 57,
     "metadata": {},
     "output_type": "execute_result"
    }
   ],
   "source": [
    "C[0:9]"
   ]
  },
  {
   "cell_type": "code",
   "execution_count": 61,
   "id": "5d1b6024-26b2-49de-a2e5-3e88a2ed54ff",
   "metadata": {},
   "outputs": [
    {
     "data": {
      "text/plain": [
       "[203, 45, False, 175]"
      ]
     },
     "execution_count": 61,
     "metadata": {},
     "output_type": "execute_result"
    }
   ],
   "source": [
    "C[0::2] #[start:end:step]"
   ]
  },
  {
   "cell_type": "code",
   "execution_count": 63,
   "id": "76183962-0374-49dc-bbc1-a0a0129e94ae",
   "metadata": {},
   "outputs": [
    {
     "data": {
      "text/plain": [
       "[203, 45, False]"
      ]
     },
     "execution_count": 63,
     "metadata": {},
     "output_type": "execute_result"
    }
   ],
   "source": [
    "C[0:5:2]"
   ]
  },
  {
   "cell_type": "code",
   "execution_count": 65,
   "id": "241c2c08-4504-477a-a46f-b28411daf74b",
   "metadata": {},
   "outputs": [
    {
     "data": {
      "text/plain": [
       "False"
      ]
     },
     "execution_count": 65,
     "metadata": {},
     "output_type": "execute_result"
    }
   ],
   "source": [
    "C[-4]"
   ]
  },
  {
   "cell_type": "code",
   "execution_count": 69,
   "id": "060dc7c4-5dcd-4697-97e9-d14a904d2032",
   "metadata": {},
   "outputs": [
    {
     "data": {
      "text/plain": [
       "[]"
      ]
     },
     "execution_count": 69,
     "metadata": {},
     "output_type": "execute_result"
    }
   ],
   "source": [
    "C[-4:-8]# here it will take the step step size is 1"
   ]
  },
  {
   "cell_type": "code",
   "execution_count": 73,
   "id": "44572b69-b30f-4096-b229-86a0c83145fd",
   "metadata": {},
   "outputs": [
    {
     "data": {
      "text/plain": [
       "[False, True, 45, 'Hyderabad']"
      ]
     },
     "execution_count": 73,
     "metadata": {},
     "output_type": "execute_result"
    }
   ],
   "source": [
    "C[-4:-8:-1] # here we can give step size -1 becoz this indexing will start from reverse order\n",
    "            # in before step we dont take step size it automatically takes step size is positive so thats why it will print empty list"
   ]
  },
  {
   "cell_type": "code",
   "execution_count": 89,
   "id": "acb424dc-5b3e-4dd7-853a-de69f626f943",
   "metadata": {},
   "outputs": [
    {
     "data": {
      "text/plain": [
       "[175, 78, False, True]"
      ]
     },
     "execution_count": 89,
     "metadata": {},
     "output_type": "execute_result"
    }
   ],
   "source": [
    "C[-2:-6:-1]"
   ]
  },
  {
   "cell_type": "code",
   "execution_count": 91,
   "id": "b527ee47-f0ab-4a85-944b-73c5834b37fc",
   "metadata": {},
   "outputs": [
    {
     "data": {
      "text/plain": [
       "[203, 'Hyderabad', 45, True, False, 78, 175, 34.9]"
      ]
     },
     "execution_count": 91,
     "metadata": {},
     "output_type": "execute_result"
    }
   ],
   "source": [
    "C"
   ]
  },
  {
   "cell_type": "code",
   "execution_count": 93,
   "id": "ebe990c5-9ee4-4d18-901e-ba91a0388596",
   "metadata": {},
   "outputs": [],
   "source": [
    "C.append(80)"
   ]
  },
  {
   "cell_type": "code",
   "execution_count": 95,
   "id": "3b062666-4267-4c4c-8601-78c0618f5d4a",
   "metadata": {},
   "outputs": [
    {
     "data": {
      "text/plain": [
       "[203, 'Hyderabad', 45, True, False, 78, 175, 34.9, 80]"
      ]
     },
     "execution_count": 95,
     "metadata": {},
     "output_type": "execute_result"
    }
   ],
   "source": [
    "C"
   ]
  },
  {
   "cell_type": "code",
   "execution_count": 97,
   "id": "b0a21d6b-68a7-4704-b0f6-007a78aec416",
   "metadata": {},
   "outputs": [],
   "source": [
    "C.insert(1,90)"
   ]
  },
  {
   "cell_type": "code",
   "execution_count": 99,
   "id": "f62155aa-7df7-4972-a754-42619057f605",
   "metadata": {},
   "outputs": [
    {
     "data": {
      "text/plain": [
       "[203, 90, 'Hyderabad', 45, True, False, 78, 175, 34.9, 80]"
      ]
     },
     "execution_count": 99,
     "metadata": {},
     "output_type": "execute_result"
    }
   ],
   "source": [
    "C"
   ]
  },
  {
   "cell_type": "code",
   "execution_count": 109,
   "id": "bfb73463-312a-4eae-9301-45764d32fa7f",
   "metadata": {},
   "outputs": [
    {
     "data": {
      "text/plain": [
       "[203, 90, 'Hyderabad', True, False, 78, 175, 34.9, 80]"
      ]
     },
     "execution_count": 109,
     "metadata": {},
     "output_type": "execute_result"
    }
   ],
   "source": [
    "C"
   ]
  },
  {
   "cell_type": "code",
   "execution_count": 111,
   "id": "33c92ee1-a3a0-42fe-9fa8-4af6c82effab",
   "metadata": {},
   "outputs": [],
   "source": [
    "C.insert(3,45)"
   ]
  },
  {
   "cell_type": "code",
   "execution_count": 113,
   "id": "9749eb74-cc82-4bbb-a42b-d1559e8da4dd",
   "metadata": {},
   "outputs": [
    {
     "data": {
      "text/plain": [
       "[203, 90, 'Hyderabad', 45, True, False, 78, 175, 34.9, 80]"
      ]
     },
     "execution_count": 113,
     "metadata": {},
     "output_type": "execute_result"
    }
   ],
   "source": [
    "C"
   ]
  },
  {
   "cell_type": "code",
   "execution_count": 115,
   "id": "01719168-22b1-4bc1-8de5-0d89f02b9229",
   "metadata": {},
   "outputs": [],
   "source": [
    "C.remove(45)"
   ]
  },
  {
   "cell_type": "code",
   "execution_count": 117,
   "id": "6ff523fa-d2ab-44d2-aab5-93510f951679",
   "metadata": {},
   "outputs": [
    {
     "data": {
      "text/plain": [
       "[203, 90, 'Hyderabad', True, False, 78, 175, 34.9, 80]"
      ]
     },
     "execution_count": 117,
     "metadata": {},
     "output_type": "execute_result"
    }
   ],
   "source": [
    "C"
   ]
  },
  {
   "cell_type": "code",
   "execution_count": 119,
   "id": "6257e9d5-d171-4443-8ca9-717f37368d8c",
   "metadata": {},
   "outputs": [
    {
     "data": {
      "text/plain": [
       "175"
      ]
     },
     "execution_count": 119,
     "metadata": {},
     "output_type": "execute_result"
    }
   ],
   "source": [
    "C.pop(6)"
   ]
  },
  {
   "cell_type": "code",
   "execution_count": 141,
   "id": "45e2263f-23a2-4ac4-9f05-64abbf2b3dfb",
   "metadata": {},
   "outputs": [
    {
     "data": {
      "text/plain": [
       "[203, 90, 'Hyderabad', 34.9, 80, 1, 2, 3, 4, 5]"
      ]
     },
     "execution_count": 141,
     "metadata": {},
     "output_type": "execute_result"
    }
   ],
   "source": [
    "del C[3]\n",
    "C"
   ]
  },
  {
   "cell_type": "code",
   "execution_count": 137,
   "id": "9e971ba4-d544-4abf-80df-7527d9104185",
   "metadata": {},
   "outputs": [],
   "source": [
    "C.extend([1,2,3,4,5])"
   ]
  },
  {
   "cell_type": "code",
   "execution_count": 139,
   "id": "65e3ede5-9323-4c39-aab0-13abe7ec5fad",
   "metadata": {},
   "outputs": [
    {
     "data": {
      "text/plain": [
       "[203, 90, 'Hyderabad', 78, 34.9, 80, 1, 2, 3, 4, 5]"
      ]
     },
     "execution_count": 139,
     "metadata": {},
     "output_type": "execute_result"
    }
   ],
   "source": [
    "C"
   ]
  },
  {
   "cell_type": "code",
   "execution_count": 143,
   "id": "78e9dc9a-9b17-4a1b-9cb1-f11a6cd6f4a8",
   "metadata": {},
   "outputs": [
    {
     "data": {
      "text/plain": [
       "[203, 90, 'Hyderabad', 34.9, 80, 1, 2, 3, 4, 5]"
      ]
     },
     "execution_count": 143,
     "metadata": {},
     "output_type": "execute_result"
    }
   ],
   "source": [
    "C"
   ]
  },
  {
   "cell_type": "code",
   "execution_count": 1,
   "id": "88ca1fc6-33ee-4add-bbd4-146773f557db",
   "metadata": {},
   "outputs": [
    {
     "data": {
      "text/plain": [
       "(90, 70, 50, 30, 20)"
      ]
     },
     "execution_count": 1,
     "metadata": {},
     "output_type": "execute_result"
    }
   ],
   "source": [
    "h=(90,70,50,30,20)\n",
    "h"
   ]
  },
  {
   "cell_type": "code",
   "execution_count": 3,
   "id": "f4a5ea26-2e00-47fe-a6ec-ff49f88aed4c",
   "metadata": {},
   "outputs": [
    {
     "data": {
      "text/plain": [
       "1"
      ]
     },
     "execution_count": 3,
     "metadata": {},
     "output_type": "execute_result"
    }
   ],
   "source": [
    "h.count(90)"
   ]
  },
  {
   "cell_type": "code",
   "execution_count": 5,
   "id": "2e3dda5b-f23f-4849-b37d-11b16c2931da",
   "metadata": {},
   "outputs": [
    {
     "data": {
      "text/plain": [
       "3"
      ]
     },
     "execution_count": 5,
     "metadata": {},
     "output_type": "execute_result"
    }
   ],
   "source": [
    "h.index(30)"
   ]
  },
  {
   "cell_type": "code",
   "execution_count": null,
   "id": "e29fba4a-1448-4307-a4fd-be2c8c7569e5",
   "metadata": {},
   "outputs": [],
   "source": []
  }
 ],
 "metadata": {
  "kernelspec": {
   "display_name": "Python [conda env:base] *",
   "language": "python",
   "name": "conda-base-py"
  },
  "language_info": {
   "codemirror_mode": {
    "name": "ipython",
    "version": 3
   },
   "file_extension": ".py",
   "mimetype": "text/x-python",
   "name": "python",
   "nbconvert_exporter": "python",
   "pygments_lexer": "ipython3",
   "version": "3.12.7"
  }
 },
 "nbformat": 4,
 "nbformat_minor": 5
}
