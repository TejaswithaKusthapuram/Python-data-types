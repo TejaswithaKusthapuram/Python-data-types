{
 "cells": [
  {
   "cell_type": "code",
   "execution_count": 3,
   "id": "7cde2942-6b9e-4106-94f8-1cbf436f1174",
   "metadata": {},
   "outputs": [],
   "source": [
    "import numpy as np"
   ]
  },
  {
   "cell_type": "code",
   "execution_count": 5,
   "id": "e501b199-317f-439d-b896-743c3c295899",
   "metadata": {},
   "outputs": [
    {
     "data": {
      "text/plain": [
       "array([19, 18, 19, 18, 18, 18, 19, 19, 20, 19, 19, 19, 19, 18, 20, 19, 19,\n",
       "       18, 20, 20, 19, 19, 18, 18, 20, 19, 20, 18, 18, 18, 20, 20, 18, 18,\n",
       "       20, 18, 20, 20, 18, 19, 20, 19, 18, 19, 19, 19, 20, 19, 18, 18, 18,\n",
       "       18, 20, 19, 18, 18, 18, 20, 20, 19, 18, 18, 18, 20, 18, 19, 20, 18,\n",
       "       19, 19, 18, 20, 18, 20, 18, 20, 20, 20, 18, 18, 20, 20, 18, 18, 20,\n",
       "       18, 20, 19, 18, 18, 19, 18, 19, 18, 19, 20, 19, 19, 18, 19, 19, 20,\n",
       "       19, 19, 18, 20, 18, 18, 20, 19, 19, 19, 19, 20, 19, 19, 19, 20, 18,\n",
       "       20, 20, 18, 20, 20, 20, 20, 20, 18, 18, 19, 20, 18, 18, 20, 20, 19,\n",
       "       18, 19, 20, 18, 19, 18, 20, 18, 20, 19, 18, 20, 18, 18, 20, 20, 20,\n",
       "       20, 20, 18, 19, 19, 20, 19, 18, 19, 20, 18, 18, 18, 18, 18, 20, 18,\n",
       "       20, 18, 20, 19, 20, 18, 19, 20, 19, 20, 20, 19, 19, 19, 19, 18, 19,\n",
       "       18, 19, 19, 20, 20, 20, 19, 19, 18, 19, 18, 20, 19])"
      ]
     },
     "execution_count": 5,
     "metadata": {},
     "output_type": "execute_result"
    }
   ],
   "source": [
    "np.random.randint(18,21,200)"
   ]
  },
  {
   "cell_type": "code",
   "execution_count": 7,
   "id": "d8f3610d-a81d-488e-8319-ddfbd743a556",
   "metadata": {},
   "outputs": [
    {
     "data": {
      "text/plain": [
       "[30, 20, 5, 8, 9]"
      ]
     },
     "execution_count": 7,
     "metadata": {},
     "output_type": "execute_result"
    }
   ],
   "source": [
    "h=[30,20,5,8,9]\n",
    "h"
   ]
  },
  {
   "cell_type": "raw",
   "id": "1132b734-3033-480f-b1d1-f489a6c8e1c6",
   "metadata": {},
   "source": [
    "d=[]\n",
    "for in h:\n",
    "  d.append(i+5)"
   ]
  },
  {
   "cell_type": "code",
   "execution_count": 23,
   "id": "b274b705-7230-4074-b47d-b600f7c54227",
   "metadata": {},
   "outputs": [
    {
     "data": {
      "text/plain": [
       "(6, 2, 3, 9, 7, 5, 8)"
      ]
     },
     "execution_count": 23,
     "metadata": {},
     "output_type": "execute_result"
    }
   ],
   "source": [
    "s=(6,2,3,9,7,5,8)\n",
    "s"
   ]
  },
  {
   "cell_type": "code",
   "execution_count": 29,
   "id": "e580d93d-e934-4b49-ae2d-92a1238fb469",
   "metadata": {},
   "outputs": [
    {
     "data": {
      "text/plain": [
       "(36, 4, 9, 81, 49, 25, 64)"
      ]
     },
     "execution_count": 29,
     "metadata": {},
     "output_type": "execute_result"
    }
   ],
   "source": [
    "tuple(x**2 for x in s)"
   ]
  },
  {
   "cell_type": "code",
   "execution_count": 31,
   "id": "7b6a6481-d1fd-4047-8641-e4b8b04ed897",
   "metadata": {},
   "outputs": [],
   "source": [
    "y=list(s)\n",
    "k=[]\n",
    "for i in y:\n",
    "    k.append(i**2)\n",
    "    s=tuple(k)\n",
    "    s"
   ]
  },
  {
   "cell_type": "code",
   "execution_count": 33,
   "id": "e9def6d4-a6f0-4364-b4ab-df9ff03b3bd1",
   "metadata": {},
   "outputs": [
    {
     "data": {
      "text/plain": [
       "(36, 4, 9, 81, 49, 25, 64)"
      ]
     },
     "execution_count": 33,
     "metadata": {},
     "output_type": "execute_result"
    }
   ],
   "source": [
    "s"
   ]
  },
  {
   "cell_type": "code",
   "execution_count": 40,
   "id": "3b90d05d-3824-48d5-9e9c-99b6c11bfc69",
   "metadata": {},
   "outputs": [],
   "source": [
    "m=[]\n",
    "for i in s:\n",
    "    if i>30:\n",
    "        m.append(i)"
   ]
  },
  {
   "cell_type": "code",
   "execution_count": 38,
   "id": "1a7671a4-fe37-4a86-b627-667668527322",
   "metadata": {},
   "outputs": [
    {
     "data": {
      "text/plain": [
       "[36, 81, 49, 64]"
      ]
     },
     "execution_count": 38,
     "metadata": {},
     "output_type": "execute_result"
    }
   ],
   "source": [
    "m"
   ]
  },
  {
   "cell_type": "code",
   "execution_count": 42,
   "id": "a2915150-8f4a-447e-9032-65b89ac345be",
   "metadata": {},
   "outputs": [],
   "source": [
    "arr=np.array([20,50,30,70,80,40,36,54,23,98])"
   ]
  },
  {
   "cell_type": "code",
   "execution_count": 44,
   "id": "14ecc5e7-e930-43de-bd37-e3f80d95a952",
   "metadata": {},
   "outputs": [
    {
     "data": {
      "text/plain": [
       "array([20, 50, 30, 70, 80, 40, 36, 54, 23, 98])"
      ]
     },
     "execution_count": 44,
     "metadata": {},
     "output_type": "execute_result"
    }
   ],
   "source": [
    "arr"
   ]
  },
  {
   "cell_type": "code",
   "execution_count": 46,
   "id": "1fedc22f-aa30-49fe-890a-453a8b13dbaa",
   "metadata": {},
   "outputs": [
    {
     "data": {
      "text/plain": [
       "array([ 25,  55,  35,  75,  85,  45,  41,  59,  28, 103])"
      ]
     },
     "execution_count": 46,
     "metadata": {},
     "output_type": "execute_result"
    }
   ],
   "source": [
    "arr+5"
   ]
  },
  {
   "cell_type": "code",
   "execution_count": 48,
   "id": "b3e32f7f-0362-4fd2-bf27-6fdb552e7ac6",
   "metadata": {},
   "outputs": [
    {
     "data": {
      "text/plain": [
       "array([ 400, 2500,  900, 4900, 6400, 1600, 1296, 2916,  529, 9604])"
      ]
     },
     "execution_count": 48,
     "metadata": {},
     "output_type": "execute_result"
    }
   ],
   "source": [
    " arr**2"
   ]
  },
  {
   "cell_type": "code",
   "execution_count": 50,
   "id": "52ec34ca-6e81-4f8d-95f0-2e897268663f",
   "metadata": {},
   "outputs": [
    {
     "data": {
      "text/plain": [
       "array([20, 50, 30, 70, 80, 40, 36, 54, 23, 98])"
      ]
     },
     "execution_count": 50,
     "metadata": {},
     "output_type": "execute_result"
    }
   ],
   "source": [
    "arr"
   ]
  },
  {
   "cell_type": "code",
   "execution_count": 52,
   "id": "60187025-67b4-4d48-b704-f22aff127619",
   "metadata": {},
   "outputs": [
    {
     "data": {
      "text/plain": [
       "array([False, False, False,  True,  True, False, False,  True, False,\n",
       "        True])"
      ]
     },
     "execution_count": 52,
     "metadata": {},
     "output_type": "execute_result"
    }
   ],
   "source": [
    "arr>50"
   ]
  },
  {
   "cell_type": "code",
   "execution_count": 54,
   "id": "b1ff8537-80d4-4bab-9e08-a148f5592f60",
   "metadata": {},
   "outputs": [
    {
     "data": {
      "text/plain": [
       "array([70, 80, 54, 98])"
      ]
     },
     "execution_count": 54,
     "metadata": {},
     "output_type": "execute_result"
    }
   ],
   "source": [
    "arr[arr>50]"
   ]
  },
  {
   "cell_type": "code",
   "execution_count": 56,
   "id": "9b826b65-dd02-4904-8a9f-700158b7f00b",
   "metadata": {},
   "outputs": [
    {
     "data": {
      "text/plain": [
       "array([20, 50, 30, 70, 80, 40, 36, 54, 23, 98])"
      ]
     },
     "execution_count": 56,
     "metadata": {},
     "output_type": "execute_result"
    }
   ],
   "source": [
    "arr"
   ]
  },
  {
   "cell_type": "code",
   "execution_count": 58,
   "id": "e1d7e719-5c33-4fa9-945d-512ecc8a9cbf",
   "metadata": {},
   "outputs": [
    {
     "data": {
      "text/plain": [
       "80"
      ]
     },
     "execution_count": 58,
     "metadata": {},
     "output_type": "execute_result"
    }
   ],
   "source": [
    "arr[4]"
   ]
  },
  {
   "cell_type": "code",
   "execution_count": 60,
   "id": "5210b809-4d86-42a1-849a-b38aa1589a54",
   "metadata": {},
   "outputs": [
    {
     "data": {
      "text/plain": [
       "array([20, 50, 30, 70, 80, 40, 36, 54, 23, 98])"
      ]
     },
     "execution_count": 60,
     "metadata": {},
     "output_type": "execute_result"
    }
   ],
   "source": [
    "arr"
   ]
  },
  {
   "cell_type": "code",
   "execution_count": 62,
   "id": "81c9e15d-5135-43c1-ac80-fa5edc411dfd",
   "metadata": {},
   "outputs": [
    {
     "data": {
      "text/plain": [
       "[36, 4, 9, 81, 49, 25, 64]"
      ]
     },
     "execution_count": 62,
     "metadata": {},
     "output_type": "execute_result"
    }
   ],
   "source": [
    "arr[arr<]"
   ]
  },
  {
   "cell_type": "code",
   "execution_count": null,
   "id": "f216f073-b81f-486e-aa56-455f2c1226b0",
   "metadata": {},
   "outputs": [],
   "source": []
  }
 ],
 "metadata": {
  "kernelspec": {
   "display_name": "Python [conda env:base] *",
   "language": "python",
   "name": "conda-base-py"
  },
  "language_info": {
   "codemirror_mode": {
    "name": "ipython",
    "version": 3
   },
   "file_extension": ".py",
   "mimetype": "text/x-python",
   "name": "python",
   "nbconvert_exporter": "python",
   "pygments_lexer": "ipython3",
   "version": "3.12.7"
  }
 },
 "nbformat": 4,
 "nbformat_minor": 5
}
