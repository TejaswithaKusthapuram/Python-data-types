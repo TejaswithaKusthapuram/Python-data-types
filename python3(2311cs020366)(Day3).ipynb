{
 "cells": [
  {
   "cell_type": "code",
   "execution_count": 11,
   "id": "a7c8a2fa-f3ae-4454-aca8-9e87302d135e",
   "metadata": {},
   "outputs": [
    {
     "name": "stdin",
     "output_type": "stream",
     "text": [
      "Enter marks for subject 1:  50\n",
      "Enter marks for subject 2:  100\n",
      "Enter marks for subject 3:  60\n"
     ]
    },
    {
     "name": "stdout",
     "output_type": "stream",
     "text": [
      "Grade: (Fail)\n"
     ]
    }
   ],
   "source": [
    "a = float(input(\"Enter marks for subject 1: \"))\n",
    "b = float(input(\"Enter marks for subject 2: \"))\n",
    "c = float(input(\"Enter marks for subject 3: \"))\n",
    "\n",
    "avg = (a + b + c) / 3\n",
    "\n",
    "if avg >= 90:\n",
    "    result = \"A\"\n",
    "elif 80 <= avg < 90:\n",
    "    result = \"B\"\n",
    "elif 70 <= avg < 80:\n",
    "    result = \"C\"\n",
    "else:\n",
    "    result = \"Fail\"\n",
    "print (f\"Grade: (Fail)\")\n"
   ]
  },
  {
   "cell_type": "code",
   "execution_count": null,
   "id": "069a9dde-32d4-45a5-adf8-3b32ceab7e4f",
   "metadata": {},
   "outputs": [],
   "source": []
  }
 ],
 "metadata": {
  "kernelspec": {
   "display_name": "Python [conda env:base] *",
   "language": "python",
   "name": "conda-base-py"
  },
  "language_info": {
   "codemirror_mode": {
    "name": "ipython",
    "version": 3
   },
   "file_extension": ".py",
   "mimetype": "text/x-python",
   "name": "python",
   "nbconvert_exporter": "python",
   "pygments_lexer": "ipython3",
   "version": "3.12.7"
  }
 },
 "nbformat": 4,
 "nbformat_minor": 5
}
