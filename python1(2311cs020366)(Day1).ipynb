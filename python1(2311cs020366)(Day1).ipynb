{
 "cells": [
  {
   "cell_type": "code",
   "execution_count": 3,
   "id": "603dde48-a994-4dc8-a675-6640e33a1436",
   "metadata": {},
   "outputs": [
    {
     "name": "stdout",
     "output_type": "stream",
     "text": [
      "Variable Values and Their Types:\n",
      "Integer: 10, Type: <class 'int'>\n",
      "Float: 20.5, Type: <class 'float'>\n",
      "String: 'Hello, Jupitar!', Type: <class 'str'>\n",
      "Boolean: True, Type: <class 'bool'>\n"
     ]
    }
   ],
   "source": [
    "#Declare variables of different data types\n",
    "my_integer = 10                # iInteger\n",
    "my_float = 20.5                # Float\n",
    "my_string = \"Hello, Jupitar!\"  # String\n",
    "my_boolean = True              # Boolean\n",
    "\n",
    "# print each variable and its type\n",
    "print(\"Variable Values and Their Types:\")\n",
    "print(f\"Integer: {my_integer}, Type: {type(my_integer)}\")\n",
    "print(f\"Float: {my_float}, Type: {type(my_float)}\")\n",
    "print(f\"String: '{my_string}', Type: {type(my_string)}\")\n",
    "print(f\"Boolean: {my_boolean}, Type: {type(my_boolean)}\")\n"
   ]
  }
 ],
 "metadata": {
  "kernelspec": {
   "display_name": "Python [conda env:base] *",
   "language": "python",
   "name": "conda-base-py"
  },
  "language_info": {
   "codemirror_mode": {
    "name": "ipython",
    "version": 3
   },
   "file_extension": ".py",
   "mimetype": "text/x-python",
   "name": "python",
   "nbconvert_exporter": "python",
   "pygments_lexer": "ipython3",
   "version": "3.12.7"
  }
 },
 "nbformat": 4,
 "nbformat_minor": 5
}
